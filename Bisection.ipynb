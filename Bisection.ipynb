{
 "cells": [
  {
   "cell_type": "markdown",
   "id": "feed9354",
   "metadata": {},
   "source": [
    "# BiSection Method\n",
    "\n",
    "Bisection method finds the root of a nonlinear equation. \n",
    "In the following you need to define the equation as well as two initial points lower and upper range of the root. The code will search for the root in between the two limits.\n"
   ]
  },
  {
   "cell_type": "code",
   "execution_count": null,
   "id": "20d3ad0f",
   "metadata": {},
   "outputs": [],
   "source": []
  },
  {
   "cell_type": "code",
   "execution_count": 7,
   "id": "a5abcaeb",
   "metadata": {},
   "outputs": [
    {
     "name": "stdout",
     "output_type": "stream",
     "text": [
      "The root of the equation is: 3.00\n"
     ]
    }
   ],
   "source": [
    "#The following 3 lines define the f(x)=0, upper limit and lower limit for the root\n",
    "fx = lambda x : x**2-13*x+30  #Enter your equation here\n",
    "xu = 5.0    # Enter any number you guess to be larger than the root (close to a root)\n",
    "xl = 1.0    # Enter any number you guess to be smaller than the root (close to a root)\n",
    "tol = 0.001  # Tolerance of error. It has been set to 0.001%, only change if you wish for higher precision (this can slow the process)\n",
    "\n",
    "if fx(xu)*fx(xl)<0:\n",
    "    xm = 100\n",
    "    xmo = 0\n",
    "    while abs(100*(xm-xmo)/xm)>tol:\n",
    "        xmo = xm\n",
    "        xm = (xl+xu)/2\n",
    "        if fx(xm)*fx(xl)>0:\n",
    "            xl=xm\n",
    "        elif fx(xm)*fx(xu)>0:\n",
    "            xu=xm\n",
    "        else:\n",
    "            xmo=xm\n",
    "    print ('The root of the equation is: %0.2f' %xm)    \n",
    "else:\n",
    "    print ('Choose a different xl or xu')"
   ]
  },
  {
   "cell_type": "code",
   "execution_count": null,
   "id": "03f66201",
   "metadata": {},
   "outputs": [],
   "source": []
  }
 ],
 "metadata": {
  "kernelspec": {
   "display_name": "Python 3 (ipykernel)",
   "language": "python",
   "name": "python3"
  },
  "language_info": {
   "codemirror_mode": {
    "name": "ipython",
    "version": 3
   },
   "file_extension": ".py",
   "mimetype": "text/x-python",
   "name": "python",
   "nbconvert_exporter": "python",
   "pygments_lexer": "ipython3",
   "version": "3.9.12"
  }
 },
 "nbformat": 4,
 "nbformat_minor": 5
}
